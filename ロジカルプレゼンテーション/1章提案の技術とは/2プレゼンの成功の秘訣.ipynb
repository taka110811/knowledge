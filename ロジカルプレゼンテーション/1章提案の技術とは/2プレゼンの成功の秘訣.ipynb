{
 "cells": [
  {
   "cell_type": "markdown",
   "metadata": {},
   "source": [
    "### プレゼンを成功させるための秘訣\n",
    "事前準備がどれだけしっかりとできていて、どれだけ自分の頭のなかが整理されているか。言い換えれば「何をポイントとして相手に伝えるべきか」の見きわめがどれだけできているかが鍵なのだ。"
   ]
  }
 ],
 "metadata": {
  "language_info": {
   "name": "python"
  }
 },
 "nbformat": 4,
 "nbformat_minor": 2
}
