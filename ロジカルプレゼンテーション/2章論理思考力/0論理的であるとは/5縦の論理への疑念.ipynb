{
 "cells": [
  {
   "cell_type": "markdown",
   "metadata": {},
   "source": [
    "「本当にそうなの？」と言われた場合は、縦の論理がつながっていない、またはつながりが弱い。つまり因果関係が弱いということだ。"
   ]
  },
  {
   "cell_type": "markdown",
   "metadata": {},
   "source": []
  }
 ],
 "metadata": {
  "language_info": {
   "name": "python"
  }
 },
 "nbformat": 4,
 "nbformat_minor": 2
}
