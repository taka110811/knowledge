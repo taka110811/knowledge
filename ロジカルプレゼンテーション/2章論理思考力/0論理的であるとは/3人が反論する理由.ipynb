{
 "cells": [
  {
   "cell_type": "markdown",
   "metadata": {},
   "source": [
    "それは、あなたの話の「縦の論理と横の論理」が、相手の頭のなかでつながっていないからである。\\\n",
    "だから、「今の話とさっきの話は何か関係があるのか？」とか「彼がこういう意見を述べる根拠には、何かあるのだろうか？」など、さまざまな疑念が出てくるわけだ。\\\n",
    "そして、全体として何が言いたいのかが分からないので、反論が湧き起こるわけである。"
   ]
  },
  {
   "cell_type": "markdown",
   "metadata": {},
   "source": []
  }
 ],
 "metadata": {
  "language_info": {
   "name": "python"
  }
 },
 "nbformat": 4,
 "nbformat_minor": 2
}
