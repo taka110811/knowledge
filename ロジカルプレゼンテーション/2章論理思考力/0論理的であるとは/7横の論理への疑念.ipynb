{
 "cells": [
  {
   "cell_type": "markdown",
   "metadata": {},
   "source": [
    "横の論理がつながっていない、またはつながりが弱い。つまり全体のとらえ方がおかしかったり、漏れやダブりがあるということだ。"
   ]
  },
  {
   "cell_type": "markdown",
   "metadata": {},
   "source": [
    "難しいのは「漏れ」のほうである。なぜなら、「漏れ」は全体が定義されて初めて議論できるからである。全体がはっきりしない状況では、漏れているかどうかも分からない。"
   ]
  },
  {
   "cell_type": "markdown",
   "metadata": {},
   "source": [
    "そして、その「全体」をどうとらえるかは、話す相手によって変わる。"
   ]
  }
 ],
 "metadata": {
  "language_info": {
   "name": "python"
  }
 },
 "nbformat": 4,
 "nbformat_minor": 2
}
