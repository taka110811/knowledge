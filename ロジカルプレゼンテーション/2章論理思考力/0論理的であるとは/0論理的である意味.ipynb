{
 "cells": [
  {
   "cell_type": "markdown",
   "metadata": {},
   "source": [
    "「どんな相手をも」理解させ、説得するためである。\\\n",
    "自分と似たような境遇で育った人や、過去の経験を共有してきた人は思考回路や知識レベルが近いため、苦労せずに話を伝えることができる。\\\n",
    "しかし、初対面の人や文化の異なる人、自分と反対の意見を持っている人などに話を伝えようとした場合、前提がちがいすぎるので話が通じないことが多い。"
   ]
  },
  {
   "cell_type": "markdown",
   "metadata": {},
   "source": []
  }
 ],
 "metadata": {
  "language_info": {
   "name": "python"
  }
 },
 "nbformat": 4,
 "nbformat_minor": 2
}
